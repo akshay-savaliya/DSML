{
 "cells": [
  {
   "cell_type": "code",
   "execution_count": 1,
   "id": "d5c50e85-d581-4822-94f7-d6eb47d91151",
   "metadata": {},
   "outputs": [],
   "source": [
    "import pandas as pd"
   ]
  },
  {
   "cell_type": "markdown",
   "id": "dfcafc97-6dd2-4c73-afc0-016d3c3a1009",
   "metadata": {},
   "source": [
    "#### Lets Start with Dictionary as Data Container"
   ]
  },
  {
   "cell_type": "code",
   "execution_count": 2,
   "id": "905765e0-1f38-403e-8fdf-861285626d1b",
   "metadata": {},
   "outputs": [
    {
     "data": {
      "text/plain": [
       "{'first': 'Akshay', 'last': 'Savaliya', 'email': 'akshaysavaliya@gmail.com'}"
      ]
     },
     "execution_count": 2,
     "metadata": {},
     "output_type": "execute_result"
    }
   ],
   "source": [
    "person = {\n",
    "    \"first\": \"Akshay\", \n",
    "    \"last\": \"Savaliya\", \n",
    "    \"email\": \"akshaysavaliya@gmail.com\"\n",
    "}\n",
    "person"
   ]
  },
  {
   "cell_type": "markdown",
   "id": "45698ea2-03d8-4ff3-9b9e-cb16eb74d099",
   "metadata": {},
   "source": [
    "##### But here the Dictionary can store only one value for each key..\n",
    "##### Lets go with list of values for each key"
   ]
  },
  {
   "cell_type": "code",
   "execution_count": 3,
   "id": "a7e3537b-382b-469c-b6f6-ff0b5b923c19",
   "metadata": {},
   "outputs": [],
   "source": [
    "people = {\n",
    "    \"first\": [\"Akshay\"], \n",
    "    \"last\": [\"Savaliya\"], \n",
    "    \"email\": [\"akshaysavaliya@gmail.com\"]\n",
    "}"
   ]
  },
  {
   "cell_type": "code",
   "execution_count": 4,
   "id": "4a17e29f-a634-4a2b-b01e-9b95db2cb821",
   "metadata": {},
   "outputs": [],
   "source": [
    "people = {\n",
    "    \"first\": [\"Kirtan\", \"Anirudh\", \"Darshit\"], \n",
    "    \"last\": [\"patel\", \"rana\", \"patel\"], \n",
    "    \"email\": [\"kirtanpatel@gmail.com\", \"Anirudhr@gmail.com\", \"darshitpatel@gmail.com\"]\n",
    "}"
   ]
  },
  {
   "cell_type": "code",
   "execution_count": 5,
   "id": "390c1a10-7425-4c3b-bede-718a69ff7309",
   "metadata": {},
   "outputs": [
    {
     "data": {
      "text/plain": [
       "['kirtanpatel@gmail.com', 'Anirudhr@gmail.com', 'darshitpatel@gmail.com']"
      ]
     },
     "execution_count": 5,
     "metadata": {},
     "output_type": "execute_result"
    }
   ],
   "source": [
    "# access values of a specific key\n",
    "people['email']"
   ]
  },
  {
   "cell_type": "markdown",
   "id": "4f1de530-a5ad-46ed-8013-7ae327135f58",
   "metadata": {},
   "source": [
    "##### Problem with disctionary is: it has very limited functionalities.\n",
    "##### Hence lets go to pandas and its data-frames\n",
    "\n",
    "#### DataFrame: 2-D data structure (rows and columns)"
   ]
  },
  {
   "cell_type": "code",
   "execution_count": 6,
   "id": "3865cdc7-b65a-4d59-9344-1f3147f649ac",
   "metadata": {},
   "outputs": [],
   "source": [
    "df = pd.DataFrame(people)"
   ]
  },
  {
   "cell_type": "code",
   "execution_count": 7,
   "id": "f0b19018-0eff-4ab4-bd6c-c723713b0651",
   "metadata": {},
   "outputs": [
    {
     "data": {
      "text/html": [
       "<div>\n",
       "<style scoped>\n",
       "    .dataframe tbody tr th:only-of-type {\n",
       "        vertical-align: middle;\n",
       "    }\n",
       "\n",
       "    .dataframe tbody tr th {\n",
       "        vertical-align: top;\n",
       "    }\n",
       "\n",
       "    .dataframe thead th {\n",
       "        text-align: right;\n",
       "    }\n",
       "</style>\n",
       "<table border=\"1\" class=\"dataframe\">\n",
       "  <thead>\n",
       "    <tr style=\"text-align: right;\">\n",
       "      <th></th>\n",
       "      <th>first</th>\n",
       "      <th>last</th>\n",
       "      <th>email</th>\n",
       "    </tr>\n",
       "  </thead>\n",
       "  <tbody>\n",
       "    <tr>\n",
       "      <th>0</th>\n",
       "      <td>Kirtan</td>\n",
       "      <td>patel</td>\n",
       "      <td>kirtanpatel@gmail.com</td>\n",
       "    </tr>\n",
       "    <tr>\n",
       "      <th>1</th>\n",
       "      <td>Anirudh</td>\n",
       "      <td>rana</td>\n",
       "      <td>Anirudhr@gmail.com</td>\n",
       "    </tr>\n",
       "    <tr>\n",
       "      <th>2</th>\n",
       "      <td>Darshit</td>\n",
       "      <td>patel</td>\n",
       "      <td>darshitpatel@gmail.com</td>\n",
       "    </tr>\n",
       "  </tbody>\n",
       "</table>\n",
       "</div>"
      ],
      "text/plain": [
       "     first   last                   email\n",
       "0   Kirtan  patel   kirtanpatel@gmail.com\n",
       "1  Anirudh   rana      Anirudhr@gmail.com\n",
       "2  Darshit  patel  darshitpatel@gmail.com"
      ]
     },
     "execution_count": 7,
     "metadata": {},
     "output_type": "execute_result"
    }
   ],
   "source": [
    "df"
   ]
  },
  {
   "cell_type": "code",
   "execution_count": 8,
   "id": "b82112b6-30eb-4263-8d5c-77c10fd963c5",
   "metadata": {},
   "outputs": [
    {
     "data": {
      "text/plain": [
       "0     kirtanpatel@gmail.com\n",
       "1        Anirudhr@gmail.com\n",
       "2    darshitpatel@gmail.com\n",
       "Name: email, dtype: object"
      ]
     },
     "execution_count": 8,
     "metadata": {},
     "output_type": "execute_result"
    }
   ],
   "source": [
    "# Access single column\n",
    "df['email']"
   ]
  },
  {
   "cell_type": "markdown",
   "id": "1969f579-1866-4dbf-8cfe-07202e6188da",
   "metadata": {},
   "source": [
    "##### The above printed object is a series\n",
    "\n",
    "#### Series: 1-d array (rows of a single column)"
   ]
  },
  {
   "cell_type": "markdown",
   "id": "1596e237-039c-491a-b00b-53033ba4388d",
   "metadata": {},
   "source": [
    "#### Dataframe: Container for multiple series"
   ]
  },
  {
   "cell_type": "code",
   "execution_count": 9,
   "id": "ffea4fb2-fc31-4a9b-9925-815dc418a5c9",
   "metadata": {},
   "outputs": [
    {
     "data": {
      "text/plain": [
       "pandas.core.series.Series"
      ]
     },
     "execution_count": 9,
     "metadata": {},
     "output_type": "execute_result"
    }
   ],
   "source": [
    "type(df['email'])"
   ]
  },
  {
   "cell_type": "code",
   "execution_count": 10,
   "id": "9357a17a-828f-45f7-8380-51e4f2895ca7",
   "metadata": {},
   "outputs": [
    {
     "data": {
      "text/plain": [
       "0     kirtanpatel@gmail.com\n",
       "1        Anirudhr@gmail.com\n",
       "2    darshitpatel@gmail.com\n",
       "Name: email, dtype: object"
      ]
     },
     "execution_count": 10,
     "metadata": {},
     "output_type": "execute_result"
    }
   ],
   "source": [
    "# Access single column other way\n",
    "df.email"
   ]
  },
  {
   "cell_type": "code",
   "execution_count": 11,
   "id": "101fb54e-71a1-4fd7-8a9a-6e8228dbf580",
   "metadata": {},
   "outputs": [
    {
     "data": {
      "text/html": [
       "<div>\n",
       "<style scoped>\n",
       "    .dataframe tbody tr th:only-of-type {\n",
       "        vertical-align: middle;\n",
       "    }\n",
       "\n",
       "    .dataframe tbody tr th {\n",
       "        vertical-align: top;\n",
       "    }\n",
       "\n",
       "    .dataframe thead th {\n",
       "        text-align: right;\n",
       "    }\n",
       "</style>\n",
       "<table border=\"1\" class=\"dataframe\">\n",
       "  <thead>\n",
       "    <tr style=\"text-align: right;\">\n",
       "      <th></th>\n",
       "      <th>first</th>\n",
       "      <th>last</th>\n",
       "    </tr>\n",
       "  </thead>\n",
       "  <tbody>\n",
       "    <tr>\n",
       "      <th>0</th>\n",
       "      <td>Kirtan</td>\n",
       "      <td>patel</td>\n",
       "    </tr>\n",
       "    <tr>\n",
       "      <th>1</th>\n",
       "      <td>Anirudh</td>\n",
       "      <td>rana</td>\n",
       "    </tr>\n",
       "    <tr>\n",
       "      <th>2</th>\n",
       "      <td>Darshit</td>\n",
       "      <td>patel</td>\n",
       "    </tr>\n",
       "  </tbody>\n",
       "</table>\n",
       "</div>"
      ],
      "text/plain": [
       "     first   last\n",
       "0   Kirtan  patel\n",
       "1  Anirudh   rana\n",
       "2  Darshit  patel"
      ]
     },
     "execution_count": 11,
     "metadata": {},
     "output_type": "execute_result"
    }
   ],
   "source": [
    "# Access Multiple columns\n",
    "df[['first','last']]"
   ]
  },
  {
   "cell_type": "code",
   "execution_count": 12,
   "id": "8d21266b-0595-463c-9d29-b40edc7eee6d",
   "metadata": {},
   "outputs": [
    {
     "data": {
      "text/plain": [
       "Index(['first', 'last', 'email'], dtype='object')"
      ]
     },
     "execution_count": 12,
     "metadata": {},
     "output_type": "execute_result"
    }
   ],
   "source": [
    "# Knowing all columns of dataframe\n",
    "df.columns"
   ]
  },
  {
   "cell_type": "code",
   "execution_count": 13,
   "id": "8b77a891-16b8-4554-a135-9782674a10b3",
   "metadata": {},
   "outputs": [
    {
     "data": {
      "text/html": [
       "<div>\n",
       "<style scoped>\n",
       "    .dataframe tbody tr th:only-of-type {\n",
       "        vertical-align: middle;\n",
       "    }\n",
       "\n",
       "    .dataframe tbody tr th {\n",
       "        vertical-align: top;\n",
       "    }\n",
       "\n",
       "    .dataframe thead th {\n",
       "        text-align: right;\n",
       "    }\n",
       "</style>\n",
       "<table border=\"1\" class=\"dataframe\">\n",
       "  <thead>\n",
       "    <tr style=\"text-align: right;\">\n",
       "      <th></th>\n",
       "      <th>first</th>\n",
       "      <th>last</th>\n",
       "      <th>email</th>\n",
       "    </tr>\n",
       "  </thead>\n",
       "  <tbody>\n",
       "    <tr>\n",
       "      <th>0</th>\n",
       "      <td>Kirtan</td>\n",
       "      <td>patel</td>\n",
       "      <td>kirtanpatel@gmail.com</td>\n",
       "    </tr>\n",
       "    <tr>\n",
       "      <th>1</th>\n",
       "      <td>Anirudh</td>\n",
       "      <td>rana</td>\n",
       "      <td>Anirudhr@gmail.com</td>\n",
       "    </tr>\n",
       "    <tr>\n",
       "      <th>2</th>\n",
       "      <td>Darshit</td>\n",
       "      <td>patel</td>\n",
       "      <td>darshitpatel@gmail.com</td>\n",
       "    </tr>\n",
       "  </tbody>\n",
       "</table>\n",
       "</div>"
      ],
      "text/plain": [
       "     first   last                   email\n",
       "0   Kirtan  patel   kirtanpatel@gmail.com\n",
       "1  Anirudh   rana      Anirudhr@gmail.com\n",
       "2  Darshit  patel  darshitpatel@gmail.com"
      ]
     },
     "execution_count": 13,
     "metadata": {},
     "output_type": "execute_result"
    }
   ],
   "source": [
    "df"
   ]
  },
  {
   "cell_type": "markdown",
   "id": "e24f06fc-aeb9-4eae-8d41-5876e9051bba",
   "metadata": {},
   "source": [
    "#### To access rows loc and iloc are used\n",
    "\n",
    "##### loc:  it is label-based\n",
    "##### iloc: it is integer position-based"
   ]
  },
  {
   "cell_type": "code",
   "execution_count": 14,
   "id": "a58b6481-c8f8-42a5-bf71-52efa259ded7",
   "metadata": {},
   "outputs": [
    {
     "data": {
      "text/plain": [
       "first                   Kirtan\n",
       "last                     patel\n",
       "email    kirtanpatel@gmail.com\n",
       "Name: 0, dtype: object"
      ]
     },
     "execution_count": 14,
     "metadata": {},
     "output_type": "execute_result"
    }
   ],
   "source": [
    "df.iloc[0]"
   ]
  },
  {
   "cell_type": "code",
   "execution_count": 15,
   "id": "f8f3e4ee-1f83-44ba-8aa5-3e050e74c31c",
   "metadata": {},
   "outputs": [
    {
     "data": {
      "text/html": [
       "<div>\n",
       "<style scoped>\n",
       "    .dataframe tbody tr th:only-of-type {\n",
       "        vertical-align: middle;\n",
       "    }\n",
       "\n",
       "    .dataframe tbody tr th {\n",
       "        vertical-align: top;\n",
       "    }\n",
       "\n",
       "    .dataframe thead th {\n",
       "        text-align: right;\n",
       "    }\n",
       "</style>\n",
       "<table border=\"1\" class=\"dataframe\">\n",
       "  <thead>\n",
       "    <tr style=\"text-align: right;\">\n",
       "      <th></th>\n",
       "      <th>first</th>\n",
       "      <th>last</th>\n",
       "      <th>email</th>\n",
       "    </tr>\n",
       "  </thead>\n",
       "  <tbody>\n",
       "    <tr>\n",
       "      <th>0</th>\n",
       "      <td>Kirtan</td>\n",
       "      <td>patel</td>\n",
       "      <td>kirtanpatel@gmail.com</td>\n",
       "    </tr>\n",
       "    <tr>\n",
       "      <th>1</th>\n",
       "      <td>Anirudh</td>\n",
       "      <td>rana</td>\n",
       "      <td>Anirudhr@gmail.com</td>\n",
       "    </tr>\n",
       "  </tbody>\n",
       "</table>\n",
       "</div>"
      ],
      "text/plain": [
       "     first   last                  email\n",
       "0   Kirtan  patel  kirtanpatel@gmail.com\n",
       "1  Anirudh   rana     Anirudhr@gmail.com"
      ]
     },
     "execution_count": 15,
     "metadata": {},
     "output_type": "execute_result"
    }
   ],
   "source": [
    "# Access Multiple rows\n",
    "df.iloc[[0,1]]"
   ]
  },
  {
   "cell_type": "code",
   "execution_count": 16,
   "id": "887827c0",
   "metadata": {},
   "outputs": [
    {
     "data": {
      "text/plain": [
       "0    patel\n",
       "1     rana\n",
       "Name: last, dtype: object"
      ]
     },
     "execution_count": 16,
     "metadata": {},
     "output_type": "execute_result"
    }
   ],
   "source": [
    "# Rows of specific columns only\n",
    "df.iloc[[0, 1], 1]"
   ]
  },
  {
   "cell_type": "code",
   "execution_count": 17,
   "id": "6a96f245-b0b2-42db-8d56-f9514b63886e",
   "metadata": {},
   "outputs": [
    {
     "data": {
      "text/html": [
       "<div>\n",
       "<style scoped>\n",
       "    .dataframe tbody tr th:only-of-type {\n",
       "        vertical-align: middle;\n",
       "    }\n",
       "\n",
       "    .dataframe tbody tr th {\n",
       "        vertical-align: top;\n",
       "    }\n",
       "\n",
       "    .dataframe thead th {\n",
       "        text-align: right;\n",
       "    }\n",
       "</style>\n",
       "<table border=\"1\" class=\"dataframe\">\n",
       "  <thead>\n",
       "    <tr style=\"text-align: right;\">\n",
       "      <th></th>\n",
       "      <th>first</th>\n",
       "      <th>last</th>\n",
       "    </tr>\n",
       "  </thead>\n",
       "  <tbody>\n",
       "    <tr>\n",
       "      <th>0</th>\n",
       "      <td>Kirtan</td>\n",
       "      <td>patel</td>\n",
       "    </tr>\n",
       "    <tr>\n",
       "      <th>1</th>\n",
       "      <td>Anirudh</td>\n",
       "      <td>rana</td>\n",
       "    </tr>\n",
       "  </tbody>\n",
       "</table>\n",
       "</div>"
      ],
      "text/plain": [
       "     first   last\n",
       "0   Kirtan  patel\n",
       "1  Anirudh   rana"
      ]
     },
     "execution_count": 17,
     "metadata": {},
     "output_type": "execute_result"
    }
   ],
   "source": [
    "# Rows of specific columns only\n",
    "df.iloc[[0, 1], [0,1]]"
   ]
  },
  {
   "cell_type": "markdown",
   "id": "6ff9d1cc-f56d-4011-9f65-7312f83a3dd0",
   "metadata": {},
   "source": [
    "##### Using loc"
   ]
  },
  {
   "cell_type": "code",
   "execution_count": 18,
   "id": "e085a702-b644-49b7-8b3d-5f46075fb35f",
   "metadata": {},
   "outputs": [
    {
     "data": {
      "text/html": [
       "<div>\n",
       "<style scoped>\n",
       "    .dataframe tbody tr th:only-of-type {\n",
       "        vertical-align: middle;\n",
       "    }\n",
       "\n",
       "    .dataframe tbody tr th {\n",
       "        vertical-align: top;\n",
       "    }\n",
       "\n",
       "    .dataframe thead th {\n",
       "        text-align: right;\n",
       "    }\n",
       "</style>\n",
       "<table border=\"1\" class=\"dataframe\">\n",
       "  <thead>\n",
       "    <tr style=\"text-align: right;\">\n",
       "      <th></th>\n",
       "      <th>first</th>\n",
       "      <th>last</th>\n",
       "      <th>email</th>\n",
       "    </tr>\n",
       "  </thead>\n",
       "  <tbody>\n",
       "    <tr>\n",
       "      <th>0</th>\n",
       "      <td>Kirtan</td>\n",
       "      <td>patel</td>\n",
       "      <td>kirtanpatel@gmail.com</td>\n",
       "    </tr>\n",
       "    <tr>\n",
       "      <th>1</th>\n",
       "      <td>Anirudh</td>\n",
       "      <td>rana</td>\n",
       "      <td>Anirudhr@gmail.com</td>\n",
       "    </tr>\n",
       "    <tr>\n",
       "      <th>2</th>\n",
       "      <td>Darshit</td>\n",
       "      <td>patel</td>\n",
       "      <td>darshitpatel@gmail.com</td>\n",
       "    </tr>\n",
       "  </tbody>\n",
       "</table>\n",
       "</div>"
      ],
      "text/plain": [
       "     first   last                   email\n",
       "0   Kirtan  patel   kirtanpatel@gmail.com\n",
       "1  Anirudh   rana      Anirudhr@gmail.com\n",
       "2  Darshit  patel  darshitpatel@gmail.com"
      ]
     },
     "execution_count": 18,
     "metadata": {},
     "output_type": "execute_result"
    }
   ],
   "source": [
    "df"
   ]
  },
  {
   "cell_type": "code",
   "execution_count": 19,
   "id": "cd61a864-d0ea-4fa1-a0ed-742494e73467",
   "metadata": {},
   "outputs": [
    {
     "data": {
      "text/plain": [
       "first                   Kirtan\n",
       "last                     patel\n",
       "email    kirtanpatel@gmail.com\n",
       "Name: 0, dtype: object"
      ]
     },
     "execution_count": 19,
     "metadata": {},
     "output_type": "execute_result"
    }
   ],
   "source": [
    "df.loc[0]"
   ]
  },
  {
   "cell_type": "code",
   "execution_count": 20,
   "id": "351ff410-9978-4903-a684-9e4b1c58cd0b",
   "metadata": {},
   "outputs": [
    {
     "data": {
      "text/html": [
       "<div>\n",
       "<style scoped>\n",
       "    .dataframe tbody tr th:only-of-type {\n",
       "        vertical-align: middle;\n",
       "    }\n",
       "\n",
       "    .dataframe tbody tr th {\n",
       "        vertical-align: top;\n",
       "    }\n",
       "\n",
       "    .dataframe thead th {\n",
       "        text-align: right;\n",
       "    }\n",
       "</style>\n",
       "<table border=\"1\" class=\"dataframe\">\n",
       "  <thead>\n",
       "    <tr style=\"text-align: right;\">\n",
       "      <th></th>\n",
       "      <th>first</th>\n",
       "      <th>last</th>\n",
       "      <th>email</th>\n",
       "    </tr>\n",
       "  </thead>\n",
       "  <tbody>\n",
       "    <tr>\n",
       "      <th>0</th>\n",
       "      <td>Kirtan</td>\n",
       "      <td>patel</td>\n",
       "      <td>kirtanpatel@gmail.com</td>\n",
       "    </tr>\n",
       "    <tr>\n",
       "      <th>1</th>\n",
       "      <td>Anirudh</td>\n",
       "      <td>rana</td>\n",
       "      <td>Anirudhr@gmail.com</td>\n",
       "    </tr>\n",
       "  </tbody>\n",
       "</table>\n",
       "</div>"
      ],
      "text/plain": [
       "     first   last                  email\n",
       "0   Kirtan  patel  kirtanpatel@gmail.com\n",
       "1  Anirudh   rana     Anirudhr@gmail.com"
      ]
     },
     "execution_count": 20,
     "metadata": {},
     "output_type": "execute_result"
    }
   ],
   "source": [
    "df.loc[[0,1]]"
   ]
  },
  {
   "cell_type": "code",
   "execution_count": 21,
   "id": "773db6f8-2890-44fc-9fe3-e1287762cc09",
   "metadata": {},
   "outputs": [
    {
     "data": {
      "text/plain": [
       "0    kirtanpatel@gmail.com\n",
       "1       Anirudhr@gmail.com\n",
       "Name: email, dtype: object"
      ]
     },
     "execution_count": 21,
     "metadata": {},
     "output_type": "execute_result"
    }
   ],
   "source": [
    "df.loc[[0,1], 'email']"
   ]
  },
  {
   "cell_type": "code",
   "execution_count": 22,
   "id": "98d6c748-db83-4743-a9b5-f80aa33bfb78",
   "metadata": {},
   "outputs": [
    {
     "data": {
      "text/html": [
       "<div>\n",
       "<style scoped>\n",
       "    .dataframe tbody tr th:only-of-type {\n",
       "        vertical-align: middle;\n",
       "    }\n",
       "\n",
       "    .dataframe tbody tr th {\n",
       "        vertical-align: top;\n",
       "    }\n",
       "\n",
       "    .dataframe thead th {\n",
       "        text-align: right;\n",
       "    }\n",
       "</style>\n",
       "<table border=\"1\" class=\"dataframe\">\n",
       "  <thead>\n",
       "    <tr style=\"text-align: right;\">\n",
       "      <th></th>\n",
       "      <th>email</th>\n",
       "      <th>last</th>\n",
       "    </tr>\n",
       "  </thead>\n",
       "  <tbody>\n",
       "    <tr>\n",
       "      <th>0</th>\n",
       "      <td>kirtanpatel@gmail.com</td>\n",
       "      <td>patel</td>\n",
       "    </tr>\n",
       "    <tr>\n",
       "      <th>1</th>\n",
       "      <td>Anirudhr@gmail.com</td>\n",
       "      <td>rana</td>\n",
       "    </tr>\n",
       "  </tbody>\n",
       "</table>\n",
       "</div>"
      ],
      "text/plain": [
       "                   email   last\n",
       "0  kirtanpatel@gmail.com  patel\n",
       "1     Anirudhr@gmail.com   rana"
      ]
     },
     "execution_count": 22,
     "metadata": {},
     "output_type": "execute_result"
    }
   ],
   "source": [
    "df.loc[[0,1], ['email','last']]"
   ]
  },
  {
   "cell_type": "code",
   "execution_count": 23,
   "id": "2586cdff-ac75-482f-adf4-7b0d9b21f593",
   "metadata": {},
   "outputs": [
    {
     "data": {
      "text/html": [
       "<div>\n",
       "<style scoped>\n",
       "    .dataframe tbody tr th:only-of-type {\n",
       "        vertical-align: middle;\n",
       "    }\n",
       "\n",
       "    .dataframe tbody tr th {\n",
       "        vertical-align: top;\n",
       "    }\n",
       "\n",
       "    .dataframe thead th {\n",
       "        text-align: right;\n",
       "    }\n",
       "</style>\n",
       "<table border=\"1\" class=\"dataframe\">\n",
       "  <thead>\n",
       "    <tr style=\"text-align: right;\">\n",
       "      <th></th>\n",
       "      <th>last</th>\n",
       "      <th>email</th>\n",
       "    </tr>\n",
       "  </thead>\n",
       "  <tbody>\n",
       "    <tr>\n",
       "      <th>0</th>\n",
       "      <td>patel</td>\n",
       "      <td>kirtanpatel@gmail.com</td>\n",
       "    </tr>\n",
       "    <tr>\n",
       "      <th>1</th>\n",
       "      <td>rana</td>\n",
       "      <td>Anirudhr@gmail.com</td>\n",
       "    </tr>\n",
       "  </tbody>\n",
       "</table>\n",
       "</div>"
      ],
      "text/plain": [
       "    last                  email\n",
       "0  patel  kirtanpatel@gmail.com\n",
       "1   rana     Anirudhr@gmail.com"
      ]
     },
     "execution_count": 23,
     "metadata": {},
     "output_type": "execute_result"
    }
   ],
   "source": [
    "df.loc[[0,1], ['last','email']]"
   ]
  }
 ],
 "metadata": {
  "kernelspec": {
   "display_name": "Python 3",
   "language": "python",
   "name": "python3"
  },
  "language_info": {
   "codemirror_mode": {
    "name": "ipython",
    "version": 3
   },
   "file_extension": ".py",
   "mimetype": "text/x-python",
   "name": "python",
   "nbconvert_exporter": "python",
   "pygments_lexer": "ipython3",
   "version": "3.11.2"
  }
 },
 "nbformat": 4,
 "nbformat_minor": 5
}
